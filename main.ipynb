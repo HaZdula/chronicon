{
 "cells": [
  {
   "cell_type": "code",
   "execution_count": null,
   "metadata": {
    "scrolled": true
   },
   "outputs": [],
   "source": [
    "from ao3 import AO3\n",
    "import getpass"
   ]
  },
  {
   "cell_type": "code",
   "execution_count": null,
   "metadata": {
    "scrolled": true
   },
   "outputs": [],
   "source": [
    "api = AO3()"
   ]
  },
  {
   "cell_type": "code",
   "execution_count": null,
   "metadata": {},
   "outputs": [],
   "source": [
    "def get_update(login):\n",
    "    api = AO3()\n",
    "    api.login(input('Logih: '), getpass.getpass(\"Pass: \"))\n",
    "    \n",
    "    b_id, b_chapters = api.user.bookmarks_ids()\n",
    "    \n",
    "    if len(b_id) != len(b_chapters):\n",
    "        print('Check for empty bookmarks.')\n",
    "        return -1\n",
    "    empty = True\n",
    "    for i in range(len(b_id)):\n",
    "        work = api.work(b_id[i])\n",
    "        if b_chapters[i] <= work.published_chapters:\n",
    "            print('UPDATE: ', work.title, \n",
    "                  \"\\nChapters ahead: \", work.published_chapters - b_chapters[i] + 1,\n",
    "                  \"\\nChapter now: \", b_chapters[i],\n",
    "                  \"\\nFandom: \", work.fandoms[0],\n",
    "                  \"\\nLink: \", work.url,\n",
    "                  \"\\n\"\n",
    "                 )\n",
    "            empty = False\n",
    "\n",
    "    if empty:\n",
    "        print(\"No updates\")\n",
    "    return 0"
   ]
  },
  {
   "cell_type": "code",
   "execution_count": null,
   "metadata": {},
   "outputs": [],
   "source": [
    "get_update(input())"
   ]
  },
  {
   "cell_type": "markdown",
   "metadata": {},
   "source": [
    "### This takes forever"
   ]
  },
  {
   "cell_type": "code",
   "execution_count": null,
   "metadata": {},
   "outputs": [],
   "source": [
    "empty = True\n",
    "for i in range(len(b_id)):\n",
    "    work = api.work(b_id[i])\n",
    "    if b_chapters[i] <= work.published_chapters:\n",
    "        print('UPDATE: ', work.title, \n",
    "              \"\\nChapters ahead: \", work.published_chapters - b_chapters[i] + 1,\n",
    "              \"\\nFandom: \", work.fandoms[0],\n",
    "              \"\\nLink: \", work.url,\n",
    "              \"\\n\"\n",
    "             )\n",
    "        empty = False\n",
    "        \n",
    "if empty:\n",
    "    print(\"No updates\")"
   ]
  },
  {
   "cell_type": "code",
   "execution_count": null,
   "metadata": {},
   "outputs": [],
   "source": []
  },
  {
   "cell_type": "markdown",
   "metadata": {},
   "source": [
    "# Works test"
   ]
  },
  {
   "cell_type": "code",
   "execution_count": null,
   "metadata": {},
   "outputs": [],
   "source": [
    "w = api.work(id=17978039)\n",
    "w.words\n",
    "w.additional_tags\n",
    "w.author\n",
    "w.category\n",
    "w.characters[0], w.characters[1], w.characters[2]\n",
    "#w.comments\n",
    "#w.bookmarks empty list - NoneType\n",
    "w.fandoms\n",
    "w.hits\n",
    "w.kudos\n",
    "w.kudos_left_by\n",
    "lista = []\n",
    "#for i in range(w.kudos_left_by):\n",
    "#    print(i)\n",
    "#not working\n",
    "w.language\n",
    "w.published\n",
    "w.rating\n",
    "w.relationship\n",
    "\n",
    "w.comments"
   ]
  },
  {
   "cell_type": "code",
   "execution_count": null,
   "metadata": {},
   "outputs": [],
   "source": [
    "w2 = api.work(18006860)"
   ]
  },
  {
   "cell_type": "code",
   "execution_count": null,
   "metadata": {},
   "outputs": [],
   "source": [
    "w2.comments"
   ]
  },
  {
   "cell_type": "code",
   "execution_count": null,
   "metadata": {
    "scrolled": true
   },
   "outputs": [],
   "source": [
    "w2.kudos_left_by\n",
    "for i in w2.kudos_left_by:\n",
    "    print(i)"
   ]
  },
  {
   "cell_type": "code",
   "execution_count": null,
   "metadata": {},
   "outputs": [],
   "source": [
    "w2.total_chapters"
   ]
  },
  {
   "cell_type": "code",
   "execution_count": null,
   "metadata": {},
   "outputs": [],
   "source": [
    "w2.published_chapters"
   ]
  },
  {
   "cell_type": "code",
   "execution_count": null,
   "metadata": {},
   "outputs": [],
   "source": [
    "w2.published"
   ]
  },
  {
   "cell_type": "markdown",
   "metadata": {},
   "source": [
    "# User tests"
   ]
  },
  {
   "cell_type": "code",
   "execution_count": null,
   "metadata": {},
   "outputs": [],
   "source": [
    "for i in api.user.reading_history():\n",
    "    print(i)"
   ]
  }
 ],
 "metadata": {
  "kernelspec": {
   "display_name": "Python 3",
   "language": "python",
   "name": "python3"
  },
  "language_info": {
   "codemirror_mode": {
    "name": "ipython",
    "version": 3
   },
   "file_extension": ".py",
   "mimetype": "text/x-python",
   "name": "python",
   "nbconvert_exporter": "python",
   "pygments_lexer": "ipython3",
   "version": "3.6.8"
  }
 },
 "nbformat": 4,
 "nbformat_minor": 2
}
